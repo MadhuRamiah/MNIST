{
  "nbformat": 4,
  "nbformat_minor": 0,
  "metadata": {
    "colab": {
      "name": "MNIST.ipynb",
      "version": "0.3.2",
      "provenance": [],
      "include_colab_link": true
    },
    "kernelspec": {
      "name": "python3",
      "display_name": "Python 3"
    },
    "accelerator": "GPU"
  },
  "cells": [
    {
      "cell_type": "markdown",
      "metadata": {
        "id": "view-in-github",
        "colab_type": "text"
      },
      "source": [
        "<a href=\"https://colab.research.google.com/github/MadhuRamiah/MNIST/blob/master/MNIST_cnn.ipynb\" target=\"_parent\"><img src=\"https://colab.research.google.com/assets/colab-badge.svg\" alt=\"Open In Colab\"/></a>"
      ]
    },
    {
      "cell_type": "code",
      "metadata": {
        "id": "_7p8Hzwy2f5W",
        "colab_type": "code",
        "colab": {}
      },
      "source": [
        "import pandas as pd\n",
        "from google.colab import files"
      ],
      "execution_count": 0,
      "outputs": []
    },
    {
      "cell_type": "code",
      "metadata": {
        "id": "g1uShoQS2j_P",
        "colab_type": "code",
        "outputId": "e69aee68-1b09-4aa0-a102-69eee6632c13",
        "colab": {
          "resources": {
            "http://localhost:8080/nbextensions/google.colab/files.js": {
              "data": "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",
              "ok": true,
              "headers": [
                [
                  "content-type",
                  "application/javascript"
                ]
              ],
              "status": 200,
              "status_text": ""
            }
          },
          "base_uri": "https://localhost:8080/",
          "height": 75
        }
      },
      "source": [
        "uploaded = files.upload()"
      ],
      "execution_count": 0,
      "outputs": [
        {
          "output_type": "display_data",
          "data": {
            "text/html": [
              "\n",
              "     <input type=\"file\" id=\"files-ce74d7bd-f2f8-43c7-bf8e-ad949e260cb8\" name=\"files[]\" multiple disabled />\n",
              "     <output id=\"result-ce74d7bd-f2f8-43c7-bf8e-ad949e260cb8\">\n",
              "      Upload widget is only available when the cell has been executed in the\n",
              "      current browser session. Please rerun this cell to enable.\n",
              "      </output>\n",
              "      <script src=\"/nbextensions/google.colab/files.js\"></script> "
            ],
            "text/plain": [
              "<IPython.core.display.HTML object>"
            ]
          },
          "metadata": {
            "tags": []
          }
        },
        {
          "output_type": "stream",
          "text": [
            "Saving test.csv to test.csv\n"
          ],
          "name": "stdout"
        }
      ]
    },
    {
      "cell_type": "code",
      "metadata": {
        "id": "DNsDy9MFu5O6",
        "colab_type": "code",
        "colab": {}
      },
      "source": [
        "import io\n",
        "df = pd.read_csv(\"train.csv\")"
      ],
      "execution_count": 0,
      "outputs": []
    },
    {
      "cell_type": "code",
      "metadata": {
        "id": "-bm0jHF62wK1",
        "colab_type": "code",
        "colab": {}
      },
      "source": [
        "import numpy as np\n",
        "from sklearn import linear_model\n",
        "from sklearn.preprocessing import OneHotEncoder\n",
        "from sklearn.model_selection import train_test_split\n",
        "import gc\n",
        "import cv2 as cv\n",
        "import matplotlib.pyplot as plt\n",
        "\n",
        "from keras.models import Sequential\n",
        "from keras.layers import Dense, Dropout, BatchNormalization, Activation, Flatten, BatchNormalization,regularizers\n",
        "from keras.layers import Conv2D,MaxPool2D\n",
        "from keras import regularizers, optimizers"
      ],
      "execution_count": 0,
      "outputs": []
    },
    {
      "cell_type": "code",
      "metadata": {
        "id": "AJhhK8W9tVjo",
        "colab_type": "code",
        "colab": {}
      },
      "source": [
        "def one_hot(Y):\n",
        "    values=[0,1,2,3,4,5,6,7,8,9]\n",
        "    new_array=np.zeros((Y.shape[0],10))\n",
        "    index=0\n",
        "    for y in Y:\n",
        "        new_array[index][y]=1.0\n",
        "        index+=1\n",
        "    print(new_array)\n",
        "    return new_array"
      ],
      "execution_count": 0,
      "outputs": []
    },
    {
      "cell_type": "code",
      "metadata": {
        "id": "ERzFbJdbtXVx",
        "colab_type": "code",
        "outputId": "8b3e76b1-3f01-4b13-fef2-363ce96971ef",
        "colab": {
          "base_uri": "https://localhost:8080/",
          "height": 139
        }
      },
      "source": [
        "X=df.iloc[:,1:]\n",
        "Y=one_hot(df['label'])\n",
        "\n",
        "# Rescaling the features\n",
        "from sklearn.preprocessing import scale\n",
        "\n",
        "X=scale(X)"
      ],
      "execution_count": 6,
      "outputs": [
        {
          "output_type": "stream",
          "text": [
            "[[0. 1. 0. ... 0. 0. 0.]\n",
            " [1. 0. 0. ... 0. 0. 0.]\n",
            " [0. 1. 0. ... 0. 0. 0.]\n",
            " ...\n",
            " [0. 0. 0. ... 1. 0. 0.]\n",
            " [0. 0. 0. ... 0. 0. 0.]\n",
            " [0. 0. 0. ... 0. 0. 1.]]\n"
          ],
          "name": "stdout"
        }
      ]
    },
    {
      "cell_type": "code",
      "metadata": {
        "id": "wYmY4YUetauS",
        "colab_type": "code",
        "outputId": "bd1219ff-dac4-4e18-d757-93717c72aa86",
        "colab": {
          "base_uri": "https://localhost:8080/",
          "height": 52
        }
      },
      "source": [
        "print (X.shape)\n",
        "Z=np.ndarray(shape=(X.shape[0],28,28),dtype=float)\n",
        "for i in range(0,len(X)):\n",
        "    x = np.reshape(X[i],(-1,28))\n",
        "    Z[i]=np.array(x)\n",
        "print (Z.shape)"
      ],
      "execution_count": 7,
      "outputs": [
        {
          "output_type": "stream",
          "text": [
            "(42000, 784)\n",
            "(42000, 28, 28)\n"
          ],
          "name": "stdout"
        }
      ]
    },
    {
      "cell_type": "code",
      "metadata": {
        "id": "RJkqr7r0txDf",
        "colab_type": "code",
        "outputId": "191adec3-4dd1-4973-d3c0-203f914daea5",
        "colab": {
          "base_uri": "https://localhost:8080/",
          "height": 157
        }
      },
      "source": [
        "fig=plt.figure(figsize=(4,4))\n",
        "ax=fig.add_subplot(1,2,1,xticks=[],yticks=[])\n",
        "plt.imshow(Z[1],cmap='gray')\n",
        "fig.savefig(\"zero.png\")\n",
        "\n",
        "#Normalizing\n",
        "normalizedImg = np.zeros((28,28))\n",
        "normalizedImg = cv.normalize(Z[1],  normalizedImg, 0, 255, cv.NORM_MINMAX)\n",
        "ax=fig.add_subplot(1,2,2,xticks=[],yticks=[])\n",
        "plt.imshow(normalizedImg,cmap='gray')\n",
        "\n",
        "#Histogram equalization\n",
        "img = cv.imread(\"zero.png\",0)\n",
        "equ = cv.equalizeHist(img)\n",
        "res = np.hstack((img,equ)) #stacking images side-by-side\n",
        "cv.imwrite('res.png',res)"
      ],
      "execution_count": 11,
      "outputs": [
        {
          "output_type": "execute_result",
          "data": {
            "text/plain": [
              "True"
            ]
          },
          "metadata": {
            "tags": []
          },
          "execution_count": 11
        },
        {
          "output_type": "display_data",
          "data": {
            "image/png": "[encoded data removed]",
            "text/plain": [
              "<Figure size 288x288 with 2 Axes>"
            ]
          },
          "metadata": {
            "tags": []
          }
        }
      ]
    },
    {
      "cell_type": "code",
      "metadata": {
        "id": "Cj-JYK4ltz5M",
        "colab_type": "code",
        "colab": {}
      },
      "source": [
        "x_train, x_test, y_train, y_test = train_test_split(Z, Y, test_size=0.1,random_state=101)\n",
        "x_train=x_train.reshape(x_train.shape[0],28,28,1)\n",
        "x_test=x_test.reshape(x_test.shape[0],28,28,1)"
      ],
      "execution_count": 0,
      "outputs": []
    },
    {
      "cell_type": "code",
      "metadata": {
        "id": "NkPAPxMFt0oU",
        "colab_type": "code",
        "colab": {}
      },
      "source": [
        "model=Sequential()\n",
        "model.add(Conv2D(28,(5,5),padding='same',input_shape=x_train.shape[1:]))\n",
        "model.add(Activation('relu'))\n",
        "model.add(BatchNormalization())\n",
        "model.add(Conv2D(28,(5,5)))\n",
        "model.add(Activation('relu'))\n",
        "model.add(MaxPool2D(pool_size=(2,2)))\n",
        "model.add(Dropout(0.25))\n",
        "\n",
        "model.add(Conv2D(32,(5,5),padding='same',input_shape=x_train.shape[1:]))\n",
        "model.add(Activation('relu'))\n",
        "model.add(BatchNormalization())\n",
        "model.add(Conv2D(32,(5,5)))\n",
        "model.add(Activation('relu'))\n",
        "model.add(MaxPool2D(pool_size=(2,2)))\n",
        "model.add(Dropout(0.25))\n",
        "\n",
        "\"\"\"model.add(Conv2D(112,(3,3),padding='same',input_shape=x_train.shape[1:]))\n",
        "model.add(Activation('relu'))\n",
        "model.add(BatchNormalization())\n",
        "model.add(Conv2D(112,(3,3)))\n",
        "model.add(Activation('relu'))\n",
        "model.add(MaxPool2D(pool_size=(2,2)))\n",
        "model.add(Dropout(0.25))\"\"\"\n",
        "\n",
        "model.add(Flatten())\n",
        "model.add(Dense(512))\n",
        "model.add(Activation('relu'))\n",
        "model.add(Dropout(0.25))\n",
        "model.add(Dense(10))\n",
        "model.add(Activation('softmax'))"
      ],
      "execution_count": 0,
      "outputs": []
    },
    {
      "cell_type": "code",
      "metadata": {
        "id": "NRnuXSolt4q7",
        "colab_type": "code",
        "outputId": "57611243-b8f6-4b72-984c-788d015d6797",
        "colab": {
          "base_uri": "https://localhost:8080/",
          "height": 832
        }
      },
      "source": [
        "model.summary()"
      ],
      "execution_count": 29,
      "outputs": [
        {
          "output_type": "stream",
          "text": [
            "_________________________________________________________________\n",
            "Layer (type)                 Output Shape              Param #   \n",
            "=================================================================\n",
            "conv2d_15 (Conv2D)           (None, 28, 28, 32)        832       \n",
            "_________________________________________________________________\n",
            "activation_22 (Activation)   (None, 28, 28, 32)        0         \n",
            "_________________________________________________________________\n",
            "batch_normalization_8 (Batch (None, 28, 28, 32)        128       \n",
            "_________________________________________________________________\n",
            "conv2d_16 (Conv2D)           (None, 24, 24, 32)        25632     \n",
            "_________________________________________________________________\n",
            "activation_23 (Activation)   (None, 24, 24, 32)        0         \n",
            "_________________________________________________________________\n",
            "max_pooling2d_8 (MaxPooling2 (None, 12, 12, 32)        0         \n",
            "_________________________________________________________________\n",
            "dropout_12 (Dropout)         (None, 12, 12, 32)        0         \n",
            "_________________________________________________________________\n",
            "conv2d_17 (Conv2D)           (None, 12, 12, 64)        51264     \n",
            "_________________________________________________________________\n",
            "activation_24 (Activation)   (None, 12, 12, 64)        0         \n",
            "_________________________________________________________________\n",
            "batch_normalization_9 (Batch (None, 12, 12, 64)        256       \n",
            "_________________________________________________________________\n",
            "conv2d_18 (Conv2D)           (None, 8, 8, 64)          102464    \n",
            "_________________________________________________________________\n",
            "activation_25 (Activation)   (None, 8, 8, 64)          0         \n",
            "_________________________________________________________________\n",
            "max_pooling2d_9 (MaxPooling2 (None, 4, 4, 64)          0         \n",
            "_________________________________________________________________\n",
            "dropout_13 (Dropout)         (None, 4, 4, 64)          0         \n",
            "_________________________________________________________________\n",
            "flatten_4 (Flatten)          (None, 1024)              0         \n",
            "_________________________________________________________________\n",
            "dense_8 (Dense)              (None, 512)               524800    \n",
            "_________________________________________________________________\n",
            "activation_26 (Activation)   (None, 512)               0         \n",
            "_________________________________________________________________\n",
            "dropout_14 (Dropout)         (None, 512)               0         \n",
            "_________________________________________________________________\n",
            "dense_9 (Dense)              (None, 10)                5130      \n",
            "_________________________________________________________________\n",
            "activation_27 (Activation)   (None, 10)                0         \n",
            "=================================================================\n",
            "Total params: 710,506\n",
            "Trainable params: 710,314\n",
            "Non-trainable params: 192\n",
            "_________________________________________________________________\n"
          ],
          "name": "stdout"
        }
      ]
    },
    {
      "cell_type": "code",
      "metadata": {
        "id": "ujkzGFORuLSP",
        "colab_type": "code",
        "outputId": "ddd4cca1-1bbd-4abf-fc11-1f3afdd7e85d",
        "colab": {
          "base_uri": "https://localhost:8080/",
          "height": 1805
        }
      },
      "source": [
        "optimizer = optimizers.sgd(lr=0.1, decay=0, momentum=0, nesterov=False)\n",
        "model.compile(loss='categorical_crossentropy',optimizer='sgd',metrics=['accuracy'])\n",
        "model.fit(x_train,y_train,epochs=50,batch_size=30,validation_data=(x_test,y_test),shuffle=True)"
      ],
      "execution_count": 40,
      "outputs": [
        {
          "output_type": "stream",
          "text": [
            "Train on 37800 samples, validate on 4200 samples\n",
            "Epoch 1/50\n",
            "37800/37800 [==============================] - 10s 274us/step - loss: 0.0019 - acc: 0.9995 - val_loss: 0.0234 - val_acc: 0.9945\n",
            "Epoch 2/50\n",
            "37800/37800 [==============================] - 9s 236us/step - loss: 0.0019 - acc: 0.9995 - val_loss: 0.0221 - val_acc: 0.9948\n",
            "Epoch 3/50\n",
            "37800/37800 [==============================] - 9s 235us/step - loss: 0.0016 - acc: 0.9996 - val_loss: 0.0223 - val_acc: 0.9940\n",
            "Epoch 4/50\n",
            "37800/37800 [==============================] - 9s 232us/step - loss: 0.0018 - acc: 0.9996 - val_loss: 0.0211 - val_acc: 0.9950\n",
            "Epoch 5/50\n",
            "37800/37800 [==============================] - 9s 233us/step - loss: 0.0012 - acc: 0.9998 - val_loss: 0.0236 - val_acc: 0.9948\n",
            "Epoch 6/50\n",
            "37800/37800 [==============================] - 9s 236us/step - loss: 0.0019 - acc: 0.9996 - val_loss: 0.0214 - val_acc: 0.9952\n",
            "Epoch 7/50\n",
            "37800/37800 [==============================] - 9s 234us/step - loss: 0.0016 - acc: 0.9995 - val_loss: 0.0218 - val_acc: 0.9955\n",
            "Epoch 8/50\n",
            "37800/37800 [==============================] - 9s 235us/step - loss: 0.0018 - acc: 0.9994 - val_loss: 0.0229 - val_acc: 0.9952\n",
            "Epoch 9/50\n",
            "37800/37800 [==============================] - 9s 235us/step - loss: 0.0022 - acc: 0.9995 - val_loss: 0.0204 - val_acc: 0.9952\n",
            "Epoch 10/50\n",
            "37800/37800 [==============================] - 9s 237us/step - loss: 0.0022 - acc: 0.9994 - val_loss: 0.0225 - val_acc: 0.9960\n",
            "Epoch 11/50\n",
            "37800/37800 [==============================] - 9s 235us/step - loss: 0.0018 - acc: 0.9996 - val_loss: 0.0242 - val_acc: 0.9952\n",
            "Epoch 12/50\n",
            "37800/37800 [==============================] - 9s 236us/step - loss: 0.0019 - acc: 0.9995 - val_loss: 0.0264 - val_acc: 0.9945\n",
            "Epoch 13/50\n",
            "37800/37800 [==============================] - 9s 237us/step - loss: 0.0027 - acc: 0.9992 - val_loss: 0.0248 - val_acc: 0.9943\n",
            "Epoch 14/50\n",
            "37800/37800 [==============================] - 9s 238us/step - loss: 0.0021 - acc: 0.9995 - val_loss: 0.0250 - val_acc: 0.9950\n",
            "Epoch 15/50\n",
            "37800/37800 [==============================] - 9s 236us/step - loss: 0.0022 - acc: 0.9994 - val_loss: 0.0213 - val_acc: 0.9950\n",
            "Epoch 16/50\n",
            "37800/37800 [==============================] - 9s 235us/step - loss: 0.0017 - acc: 0.9996 - val_loss: 0.0222 - val_acc: 0.9952\n",
            "Epoch 17/50\n",
            "37800/37800 [==============================] - 9s 235us/step - loss: 0.0017 - acc: 0.9995 - val_loss: 0.0265 - val_acc: 0.9948\n",
            "Epoch 18/50\n",
            "37800/37800 [==============================] - 9s 237us/step - loss: 0.0022 - acc: 0.9994 - val_loss: 0.0212 - val_acc: 0.9952\n",
            "Epoch 19/50\n",
            "37800/37800 [==============================] - 9s 243us/step - loss: 0.0021 - acc: 0.9995 - val_loss: 0.0230 - val_acc: 0.9950\n",
            "Epoch 20/50\n",
            "37800/37800 [==============================] - 9s 237us/step - loss: 0.0023 - acc: 0.9992 - val_loss: 0.0230 - val_acc: 0.9948\n",
            "Epoch 21/50\n",
            "37800/37800 [==============================] - 9s 234us/step - loss: 0.0018 - acc: 0.9996 - val_loss: 0.0220 - val_acc: 0.9950\n",
            "Epoch 22/50\n",
            "37800/37800 [==============================] - 9s 236us/step - loss: 0.0015 - acc: 0.9996 - val_loss: 0.0238 - val_acc: 0.9945\n",
            "Epoch 23/50\n",
            "37800/37800 [==============================] - 9s 234us/step - loss: 0.0015 - acc: 0.9997 - val_loss: 0.0214 - val_acc: 0.9952\n",
            "Epoch 24/50\n",
            "37800/37800 [==============================] - 9s 240us/step - loss: 0.0015 - acc: 0.9996 - val_loss: 0.0225 - val_acc: 0.9952\n",
            "Epoch 25/50\n",
            "37800/37800 [==============================] - 9s 236us/step - loss: 0.0016 - acc: 0.9996 - val_loss: 0.0210 - val_acc: 0.9948\n",
            "Epoch 26/50\n",
            "37800/37800 [==============================] - 9s 234us/step - loss: 0.0018 - acc: 0.9996 - val_loss: 0.0206 - val_acc: 0.9964\n",
            "Epoch 27/50\n",
            "37800/37800 [==============================] - 9s 235us/step - loss: 0.0016 - acc: 0.9996 - val_loss: 0.0230 - val_acc: 0.9943\n",
            "Epoch 28/50\n",
            "37800/37800 [==============================] - 9s 234us/step - loss: 0.0023 - acc: 0.9993 - val_loss: 0.0202 - val_acc: 0.9952\n",
            "Epoch 29/50\n",
            "37800/37800 [==============================] - 9s 233us/step - loss: 0.0017 - acc: 0.9995 - val_loss: 0.0250 - val_acc: 0.9950\n",
            "Epoch 30/50\n",
            "37800/37800 [==============================] - 9s 232us/step - loss: 0.0020 - acc: 0.9994 - val_loss: 0.0215 - val_acc: 0.9957\n",
            "Epoch 31/50\n",
            "37800/37800 [==============================] - 9s 234us/step - loss: 0.0015 - acc: 0.9996 - val_loss: 0.0209 - val_acc: 0.9962\n",
            "Epoch 32/50\n",
            "37800/37800 [==============================] - 9s 235us/step - loss: 0.0019 - acc: 0.9996 - val_loss: 0.0211 - val_acc: 0.9957\n",
            "Epoch 33/50\n",
            "37800/37800 [==============================] - 9s 238us/step - loss: 0.0019 - acc: 0.9994 - val_loss: 0.0216 - val_acc: 0.9945\n",
            "Epoch 34/50\n",
            "37800/37800 [==============================] - 9s 236us/step - loss: 0.0022 - acc: 0.9994 - val_loss: 0.0220 - val_acc: 0.9952\n",
            "Epoch 35/50\n",
            "37800/37800 [==============================] - 9s 235us/step - loss: 0.0015 - acc: 0.9996 - val_loss: 0.0206 - val_acc: 0.9948\n",
            "Epoch 36/50\n",
            "37800/37800 [==============================] - 9s 234us/step - loss: 0.0014 - acc: 0.9997 - val_loss: 0.0209 - val_acc: 0.9957\n",
            "Epoch 37/50\n",
            "37800/37800 [==============================] - 9s 234us/step - loss: 0.0012 - acc: 0.9997 - val_loss: 0.0216 - val_acc: 0.9960\n",
            "Epoch 38/50\n",
            "37800/37800 [==============================] - 9s 235us/step - loss: 0.0013 - acc: 0.9997 - val_loss: 0.0242 - val_acc: 0.9948\n",
            "Epoch 39/50\n",
            "37800/37800 [==============================] - 9s 235us/step - loss: 0.0015 - acc: 0.9997 - val_loss: 0.0219 - val_acc: 0.9960\n",
            "Epoch 40/50\n",
            "37800/37800 [==============================] - 9s 234us/step - loss: 0.0014 - acc: 0.9996 - val_loss: 0.0224 - val_acc: 0.9955\n",
            "Epoch 41/50\n",
            "37800/37800 [==============================] - 9s 236us/step - loss: 0.0014 - acc: 0.9997 - val_loss: 0.0201 - val_acc: 0.9955\n",
            "Epoch 42/50\n",
            "37800/37800 [==============================] - 9s 242us/step - loss: 0.0019 - acc: 0.9994 - val_loss: 0.0232 - val_acc: 0.9955\n",
            "Epoch 43/50\n",
            "37800/37800 [==============================] - 9s 237us/step - loss: 0.0016 - acc: 0.9996 - val_loss: 0.0235 - val_acc: 0.9957\n",
            "Epoch 44/50\n",
            "37800/37800 [==============================] - 9s 235us/step - loss: 0.0017 - acc: 0.9996 - val_loss: 0.0247 - val_acc: 0.9945\n",
            "Epoch 45/50\n",
            "37800/37800 [==============================] - 9s 235us/step - loss: 0.0014 - acc: 0.9997 - val_loss: 0.0229 - val_acc: 0.9952\n",
            "Epoch 46/50\n",
            "37800/37800 [==============================] - 9s 236us/step - loss: 0.0016 - acc: 0.9996 - val_loss: 0.0237 - val_acc: 0.9957\n",
            "Epoch 47/50\n",
            "37800/37800 [==============================] - 9s 237us/step - loss: 0.0021 - acc: 0.9994 - val_loss: 0.0251 - val_acc: 0.9948\n",
            "Epoch 48/50\n",
            "37800/37800 [==============================] - 9s 236us/step - loss: 0.0016 - acc: 0.9995 - val_loss: 0.0244 - val_acc: 0.9955\n",
            "Epoch 49/50\n",
            "37800/37800 [==============================] - 9s 238us/step - loss: 0.0019 - acc: 0.9995 - val_loss: 0.0235 - val_acc: 0.9952\n",
            "Epoch 50/50\n",
            "37800/37800 [==============================] - 9s 236us/step - loss: 0.0019 - acc: 0.9996 - val_loss: 0.0267 - val_acc: 0.9952\n"
          ],
          "name": "stdout"
        },
        {
          "output_type": "execute_result",
          "data": {
            "text/plain": [
              "<keras.callbacks.History at 0x7f046ee7e390>"
            ]
          },
          "metadata": {
            "tags": []
          },
          "execution_count": 40
        }
      ]
    },
    {
      "cell_type": "code",
      "metadata": {
        "id": "WRxCgN5quRXR",
        "colab_type": "code",
        "outputId": "6005c7a9-22ab-4b01-b86a-c722cbea77c9",
        "colab": {
          "base_uri": "https://localhost:8080/",
          "height": 35
        }
      },
      "source": [
        "test_data=pd.read_csv(\"test.csv\")\n",
        "test_data=scale(test_data)\n",
        "\n",
        "Z_test=np.ndarray(shape=(test_data.shape[0],28,28),dtype=float)\n",
        "for i in range(0,len(test_data)):\n",
        "    x = np.reshape(test_data[i],(-1,28))\n",
        "    Z_test[i]=np.array(x)\n",
        "print (Z_test.shape)\n",
        "\n",
        "test_data=test_data.reshape(len(Z_test),28,28,1)\n",
        "test_pred=model.predict_classes(test_data)\n",
        "\n",
        "test=pd.read_csv(\"test.csv\")\n",
        "submissions=pd.DataFrame({'ImageId':test.index.values+1,'Label':test_pred})\n",
        "submissions.to_csv(\"MNIST_cnn9.csv\",index=False)"
      ],
      "execution_count": 41,
      "outputs": [
        {
          "output_type": "stream",
          "text": [
            "(28000, 28, 28)\n"
          ],
          "name": "stdout"
        }
      ]
    },
    {
      "cell_type": "code",
      "metadata": {
        "id": "g9sXP4DCz9Kb",
        "colab_type": "code",
        "colab": {}
      },
      "source": [
        ""
      ],
      "execution_count": 0,
      "outputs": []
    }
  ]
}